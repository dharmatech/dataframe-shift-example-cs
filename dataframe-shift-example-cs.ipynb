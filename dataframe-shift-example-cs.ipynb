{
 "cells": [
  {
   "cell_type": "code",
   "execution_count": null,
   "metadata": {
    "dotnet_interactive": {
     "language": "csharp"
    }
   },
   "outputs": [
    {
     "data": {
      "text/html": [
       "<div><div></div><div></div><div><strong>Installed Packages</strong><ul><li><span>Microsoft.Data.Analysis, 0.19.0</span></li></ul></div></div>"
      ]
     },
     "metadata": {},
     "output_type": "display_data"
    },
    {
     "data": {
      "text/markdown": [
       "Loading extensions from `Microsoft.Data.Analysis.Interactive.dll`"
      ]
     },
     "metadata": {},
     "output_type": "display_data"
    }
   ],
   "source": [
    "#r \"nuget:Microsoft.Data.Analysis\"\n",
    "\n",
    "using Microsoft.Data.Analysis;"
   ]
  },
  {
   "cell_type": "code",
   "execution_count": null,
   "metadata": {
    "dotnet_interactive": {
     "language": "csharp"
    }
   },
   "outputs": [
    {
     "data": {
      "text/html": [
       "<table id=\"table_637729982005588131\"><thead><tr><th><i>index</i></th><th>DateTime</th><th>Col1</th><th>Col2</th><th>Col3</th></tr></thead><tbody><tr><td><i><div class=\"dni-plaintext\">0</div></i></td><td><span>2020-01-01 00:00:00Z</span></td><td><div class=\"dni-plaintext\">10</div></td><td><div class=\"dni-plaintext\">13</div></td><td><div class=\"dni-plaintext\">17</div></td></tr><tr><td><i><div class=\"dni-plaintext\">1</div></i></td><td><span>2020-01-02 00:00:00Z</span></td><td><div class=\"dni-plaintext\">20</div></td><td><div class=\"dni-plaintext\">23</div></td><td><div class=\"dni-plaintext\">27</div></td></tr><tr><td><i><div class=\"dni-plaintext\">2</div></i></td><td><span>2020-01-03 00:00:00Z</span></td><td><div class=\"dni-plaintext\">15</div></td><td><div class=\"dni-plaintext\">18</div></td><td><div class=\"dni-plaintext\">22</div></td></tr><tr><td><i><div class=\"dni-plaintext\">3</div></i></td><td><span>2020-01-04 00:00:00Z</span></td><td><div class=\"dni-plaintext\">30</div></td><td><div class=\"dni-plaintext\">33</div></td><td><div class=\"dni-plaintext\">37</div></td></tr><tr><td><i><div class=\"dni-plaintext\">4</div></i></td><td><span>2020-01-05 00:00:00Z</span></td><td><div class=\"dni-plaintext\">45</div></td><td><div class=\"dni-plaintext\">48</div></td><td><div class=\"dni-plaintext\">52</div></td></tr></tbody></table>"
      ]
     },
     "metadata": {},
     "output_type": "display_data"
    }
   ],
   "source": [
    "var df = new DataFrame(\n",
    "    new PrimitiveDataFrameColumn<DateTime>(\"DateTime\",\n",
    "        Enumerable.Range(0, 5).Select(i => \n",
    "            new DateTime(2020, 1, 1).Add(new TimeSpan(i, 0, 0, 0)))),    \n",
    "    new PrimitiveDataFrameColumn<int>(\"Col1\", new []{ 10, 20, 15, 30, 45 }),\n",
    "    new PrimitiveDataFrameColumn<int>(\"Col2\", new []{ 13, 23, 18, 33, 48 }),\n",
    "    new PrimitiveDataFrameColumn<int>(\"Col3\", new []{ 17, 27, 22, 37, 52 })\n",
    ");\n",
    "\n",
    "df"
   ]
  },
  {
   "cell_type": "code",
   "execution_count": null,
   "metadata": {
    "dotnet_interactive": {
     "language": "csharp"
    }
   },
   "outputs": [
    {
     "data": {
      "text/html": [
       "<table><thead><tr><th><i>index</i></th><th>value</th></tr></thead><tbody><tr><td>0</td><td><div class=\"dni-plaintext\">&lt;null&gt;</div></td></tr><tr><td>1</td><td><div class=\"dni-plaintext\">&lt;null&gt;</div></td></tr><tr><td>2</td><td><div class=\"dni-plaintext\">10</div></td></tr><tr><td>3</td><td><div class=\"dni-plaintext\">20</div></td></tr><tr><td>4</td><td><div class=\"dni-plaintext\">15</div></td></tr></tbody></table>"
      ]
     },
     "metadata": {},
     "output_type": "display_data"
    }
   ],
   "source": [
    "var col1 = new PrimitiveDataFrameColumn<int>(\"Col1\", new []{ 10, 20, 15, 30, 45 });\n",
    "\n",
    "// col1.Prepend(Enumerable.Repeat((int?)null, 2))\n",
    "\n",
    "var col4 = Enumerable.Repeat((int?) null, 2)\n",
    "    .Aggregate(\n",
    "        col1,\n",
    "        (a, b) => new PrimitiveDataFrameColumn<int>(\"Col1\", a.Prepend(b)));\n",
    "\n",
    "// col1\n",
    "\n",
    "Enumerable.Repeat((int?) null, 2).Concat(col1).Take(col1.Count())"
   ]
  },
  {
   "cell_type": "code",
   "execution_count": null,
   "metadata": {
    "dotnet_interactive": {
     "language": "csharp"
    }
   },
   "outputs": [],
   "source": [
    "// PrimitiveDataFrameColumn<T3> ShiftColumn<T3>(PrimitiveDataFrameColumn<T3> col, int n) where T3 : struct\n",
    "// {\n",
    "//     return new PrimitiveDataFrameColumn<T3>(\"col\");\n",
    "// }\n",
    "\n",
    "// PrimitiveDataFrameColumn<int> ShiftIntColumn(PrimitiveDataFrameColumn<int> col, int n, string name)\n",
    "// {\n",
    "//     return \n",
    "//         new PrimitiveDataFrameColumn<int>(\n",
    "//             name,\n",
    "//             Enumerable.Repeat((int?) null, n)\n",
    "//                 .Concat(col)\n",
    "//                 .Take(col.Count()));\n",
    "// }\n",
    "\n",
    "PrimitiveDataFrameColumn<double> ShiftIntColumn(PrimitiveDataFrameColumn<int> col, int n, string name)\n",
    "{\n",
    "    return \n",
    "        new PrimitiveDataFrameColumn<double>(\n",
    "            name,\n",
    "            Enumerable.Repeat((double?) null, n)\n",
    "                .Concat(col.Select(item => (double?) item))\n",
    "                .Take(col.Count()));\n",
    "}"
   ]
  },
  {
   "cell_type": "code",
   "execution_count": null,
   "metadata": {
    "dotnet_interactive": {
     "language": "csharp"
    }
   },
   "outputs": [
    {
     "data": {
      "text/html": [
       "<span><a href=\"https://docs.microsoft.com/dotnet/api/system.double?view=net-5.0\">System.Double</a></span>"
      ]
     },
     "metadata": {},
     "output_type": "display_data"
    }
   ],
   "source": [
    "var result = ShiftIntColumn((PrimitiveDataFrameColumn<int>)df[\"Col1\"], 2, \"\");\n",
    "\n",
    "result[2].GetType()"
   ]
  },
  {
   "cell_type": "code",
   "execution_count": null,
   "metadata": {
    "dotnet_interactive": {
     "language": "csharp"
    }
   },
   "outputs": [],
   "source": [
    "df.Columns.Add(ShiftIntColumn((PrimitiveDataFrameColumn<int>)df[\"Col1\"], 2, \"Col4\"))"
   ]
  },
  {
   "cell_type": "code",
   "execution_count": null,
   "metadata": {
    "dotnet_interactive": {
     "language": "csharp"
    }
   },
   "outputs": [
    {
     "data": {
      "text/html": [
       "<table id=\"table_637729556355042205\"><thead><tr><th><i>index</i></th><th>DateTime</th><th>Col1</th><th>Col2</th><th>Col3</th><th>Col4</th></tr></thead><tbody><tr><td><i><div class=\"dni-plaintext\">0</div></i></td><td><span>2020-01-01 00:00:00Z</span></td><td><div class=\"dni-plaintext\">10</div></td><td><div class=\"dni-plaintext\">13</div></td><td><div class=\"dni-plaintext\">17</div></td><td><div class=\"dni-plaintext\">&lt;null&gt;</div></td></tr><tr><td><i><div class=\"dni-plaintext\">1</div></i></td><td><span>2020-01-02 00:00:00Z</span></td><td><div class=\"dni-plaintext\">20</div></td><td><div class=\"dni-plaintext\">23</div></td><td><div class=\"dni-plaintext\">27</div></td><td><div class=\"dni-plaintext\">&lt;null&gt;</div></td></tr><tr><td><i><div class=\"dni-plaintext\">2</div></i></td><td><span>2020-01-03 00:00:00Z</span></td><td><div class=\"dni-plaintext\">15</div></td><td><div class=\"dni-plaintext\">18</div></td><td><div class=\"dni-plaintext\">22</div></td><td><div class=\"dni-plaintext\">10</div></td></tr><tr><td><i><div class=\"dni-plaintext\">3</div></i></td><td><span>2020-01-04 00:00:00Z</span></td><td><div class=\"dni-plaintext\">30</div></td><td><div class=\"dni-plaintext\">33</div></td><td><div class=\"dni-plaintext\">37</div></td><td><div class=\"dni-plaintext\">20</div></td></tr><tr><td><i><div class=\"dni-plaintext\">4</div></i></td><td><span>2020-01-05 00:00:00Z</span></td><td><div class=\"dni-plaintext\">45</div></td><td><div class=\"dni-plaintext\">48</div></td><td><div class=\"dni-plaintext\">52</div></td><td><div class=\"dni-plaintext\">15</div></td></tr></tbody></table>"
      ]
     },
     "metadata": {},
     "output_type": "display_data"
    }
   ],
   "source": [
    "df"
   ]
  },
  {
   "cell_type": "code",
   "execution_count": null,
   "metadata": {
    "dotnet_interactive": {
     "language": "csharp"
    }
   },
   "outputs": [
    {
     "data": {
      "text/html": [
       "<span><a href=\"https://docs.microsoft.com/dotnet/api/system.double?view=net-5.0\">System.Double</a></span>"
      ]
     },
     "metadata": {},
     "output_type": "display_data"
    }
   ],
   "source": [
    "df[\"Col4\"][2].GetType()"
   ]
  },
  {
   "cell_type": "code",
   "execution_count": null,
   "metadata": {
    "dotnet_interactive": {
     "language": "csharp"
    }
   },
   "outputs": [
    {
     "data": {
      "text/html": [
       "<table><thead><tr><th><i>index</i></th><th>value</th></tr></thead><tbody><tr><td>0</td><td><div class=\"dni-plaintext\">10</div></td></tr><tr><td>1</td><td><div class=\"dni-plaintext\">20</div></td></tr><tr><td>2</td><td><div class=\"dni-plaintext\">25</div></td></tr><tr><td>3</td><td><div class=\"dni-plaintext\">50</div></td></tr><tr><td>4</td><td><div class=\"dni-plaintext\">60</div></td></tr></tbody></table>"
      ]
     },
     "metadata": {},
     "output_type": "display_data"
    }
   ],
   "source": [
    "df[\"Col1\"] + ShiftIntColumn((PrimitiveDataFrameColumn<int>)df[\"Col1\"], 2, \"Col4\")"
   ]
  },
  {
   "cell_type": "code",
   "execution_count": null,
   "metadata": {
    "dotnet_interactive": {
     "language": "csharp"
    }
   },
   "outputs": [
    {
     "ename": "Error",
     "evalue": "System.DivideByZeroException: Attempted to divide by zero.\r\n   at Microsoft.Data.Analysis.IntArithmetic.Divide(PrimitiveColumnContainer`1 left, PrimitiveColumnContainer`1 right)\r\n   at Microsoft.Data.Analysis.PrimitiveColumnContainer`1.Divide(PrimitiveColumnContainer`1 right)\r\n   at Microsoft.Data.Analysis.PrimitiveDataFrameColumn`1.DivideImplementation[U](PrimitiveDataFrameColumn`1 column, Boolean inPlace)\r\n   at Microsoft.Data.Analysis.PrimitiveDataFrameColumn`1.Divide(DataFrameColumn column, Boolean inPlace)\r\n   at Submission#94.<<Initialize>>d__0.MoveNext()\r\n--- End of stack trace from previous location ---\r\n   at Microsoft.CodeAnalysis.Scripting.ScriptExecutionState.RunSubmissionsAsync[TResult](ImmutableArray`1 precedingExecutors, Func`2 currentExecutor, StrongBox`1 exceptionHolderOpt, Func`2 catchExceptionOpt, CancellationToken cancellationToken)",
     "output_type": "error",
     "traceback": [
      "System.DivideByZeroException: Attempted to divide by zero.\r\n",
      "   at Microsoft.Data.Analysis.IntArithmetic.Divide(PrimitiveColumnContainer`1 left, PrimitiveColumnContainer`1 right)\r\n",
      "   at Microsoft.Data.Analysis.PrimitiveColumnContainer`1.Divide(PrimitiveColumnContainer`1 right)\r\n",
      "   at Microsoft.Data.Analysis.PrimitiveDataFrameColumn`1.DivideImplementation[U](PrimitiveDataFrameColumn`1 column, Boolean inPlace)\r\n",
      "   at Microsoft.Data.Analysis.PrimitiveDataFrameColumn`1.Divide(DataFrameColumn column, Boolean inPlace)\r\n",
      "   at Submission#94.<<Initialize>>d__0.MoveNext()\r\n",
      "--- End of stack trace from previous location ---\r\n",
      "   at Microsoft.CodeAnalysis.Scripting.ScriptExecutionState.RunSubmissionsAsync[TResult](ImmutableArray`1 precedingExecutors, Func`2 currentExecutor, StrongBox`1 exceptionHolderOpt, Func`2 catchExceptionOpt, CancellationToken cancellationToken)"
     ]
    }
   ],
   "source": [
    "df[\"Col1\"].Divide(df[\"Col4\"])"
   ]
  },
  {
   "cell_type": "code",
   "execution_count": null,
   "metadata": {
    "dotnet_interactive": {
     "language": "csharp"
    }
   },
   "outputs": [],
   "source": [
    "// PrimitiveDataFrameColumn<double> Div(PrimitiveDataFrameColumn<int> a, PrimitiveDataFrameColumn<double> b)\n",
    "// {\n",
    "//     return \n",
    "//         new PrimitiveDataFrameColumn<double>(\"\", a.Zip(b, (x, y) => y == null ? null : x / y));\n",
    "// }\n",
    "\n",
    "PrimitiveDataFrameColumn<double> DivAlt(PrimitiveDataFrameColumn<int> a, PrimitiveDataFrameColumn<double> b)\n",
    "{\n",
    "    return \n",
    "        new PrimitiveDataFrameColumn<double>(\"\", a.Zip(b, (x, y) => y == null ? null : x / y));\n",
    "}"
   ]
  },
  {
   "cell_type": "code",
   "execution_count": null,
   "metadata": {
    "dotnet_interactive": {
     "language": "csharp"
    }
   },
   "outputs": [
    {
     "data": {
      "text/html": [
       "<table><thead><tr><th><i>index</i></th><th>value</th></tr></thead><tbody><tr><td>0</td><td><div class=\"dni-plaintext\">3.3333333333333335</div></td></tr><tr><td>1</td><td><div class=\"dni-plaintext\">2.857142857142857</div></td></tr></tbody></table>"
      ]
     },
     "metadata": {},
     "output_type": "display_data"
    }
   ],
   "source": [
    "new PrimitiveDataFrameColumn<double>(\"\",\n",
    "    (new int?[]{ 10, 20 }).Zip(\n",
    "        new double?[]{ 3, 7 },\n",
    "        (x, y) => x / y\n",
    "    )\n",
    ")\n"
   ]
  },
  {
   "cell_type": "code",
   "execution_count": null,
   "metadata": {
    "dotnet_interactive": {
     "language": "csharp"
    }
   },
   "outputs": [],
   "source": [
    "// var result = DivAlt((PrimitiveDataFrameColumn<int>) df[\"Col1\"], (PrimitiveDataFrameColumn<double>) df[\"Col4\"]);\n",
    "\n",
    "// result\n",
    "\n",
    "// DivAlt((PrimitiveDataFrameColumn<int>) df[\"Col1\"], (PrimitiveDataFrameColumn<double>) df[\"Col4\"])\n",
    "\n",
    "df.Columns.Add(DivAlt((PrimitiveDataFrameColumn<int>) df[\"Col1\"], (PrimitiveDataFrameColumn<double>) df[\"Col4\"]));"
   ]
  },
  {
   "cell_type": "code",
   "execution_count": null,
   "metadata": {
    "dotnet_interactive": {
     "language": "csharp"
    }
   },
   "outputs": [],
   "source": [
    "df.Columns[4].SetName(\"Col5\")"
   ]
  },
  {
   "cell_type": "code",
   "execution_count": null,
   "metadata": {
    "dotnet_interactive": {
     "language": "csharp"
    }
   },
   "outputs": [
    {
     "data": {
      "text/html": [
       "<table id=\"table_637729558718871544\"><thead><tr><th><i>index</i></th><th>DateTime</th><th>Col1</th><th>Col2</th><th>Col3</th><th>Col5</th><th></th></tr></thead><tbody><tr><td><i><div class=\"dni-plaintext\">0</div></i></td><td><span>2020-01-01 00:00:00Z</span></td><td><div class=\"dni-plaintext\">10</div></td><td><div class=\"dni-plaintext\">13</div></td><td><div class=\"dni-plaintext\">17</div></td><td><div class=\"dni-plaintext\">&lt;null&gt;</div></td><td><div class=\"dni-plaintext\">&lt;null&gt;</div></td></tr><tr><td><i><div class=\"dni-plaintext\">1</div></i></td><td><span>2020-01-02 00:00:00Z</span></td><td><div class=\"dni-plaintext\">20</div></td><td><div class=\"dni-plaintext\">23</div></td><td><div class=\"dni-plaintext\">27</div></td><td><div class=\"dni-plaintext\">&lt;null&gt;</div></td><td><div class=\"dni-plaintext\">&lt;null&gt;</div></td></tr><tr><td><i><div class=\"dni-plaintext\">2</div></i></td><td><span>2020-01-03 00:00:00Z</span></td><td><div class=\"dni-plaintext\">15</div></td><td><div class=\"dni-plaintext\">18</div></td><td><div class=\"dni-plaintext\">22</div></td><td><div class=\"dni-plaintext\">10</div></td><td><div class=\"dni-plaintext\">1.5</div></td></tr><tr><td><i><div class=\"dni-plaintext\">3</div></i></td><td><span>2020-01-04 00:00:00Z</span></td><td><div class=\"dni-plaintext\">30</div></td><td><div class=\"dni-plaintext\">33</div></td><td><div class=\"dni-plaintext\">37</div></td><td><div class=\"dni-plaintext\">20</div></td><td><div class=\"dni-plaintext\">1.5</div></td></tr><tr><td><i><div class=\"dni-plaintext\">4</div></i></td><td><span>2020-01-05 00:00:00Z</span></td><td><div class=\"dni-plaintext\">45</div></td><td><div class=\"dni-plaintext\">48</div></td><td><div class=\"dni-plaintext\">52</div></td><td><div class=\"dni-plaintext\">15</div></td><td><div class=\"dni-plaintext\">3</div></td></tr></tbody></table>"
      ]
     },
     "metadata": {},
     "output_type": "display_data"
    }
   ],
   "source": [
    "df"
   ]
  },
  {
   "cell_type": "code",
   "execution_count": null,
   "metadata": {
    "dotnet_interactive": {
     "language": "csharp"
    }
   },
   "outputs": [
    {
     "data": {
      "text/html": [
       "<div class=\"dni-plaintext\">1.5</div>"
      ]
     },
     "metadata": {},
     "output_type": "display_data"
    }
   ],
   "source": [
    "(int?) 15 / (double?) 10.0"
   ]
  },
  {
   "cell_type": "code",
   "execution_count": null,
   "metadata": {
    "dotnet_interactive": {
     "language": "csharp"
    }
   },
   "outputs": [
    {
     "data": {
      "text/html": [
       "<table id=\"table_637729557556589620\"><thead><tr><th><i>index</i></th><th>DateTime</th><th>Col1</th><th>Col2</th><th>Col3</th><th>Col4</th></tr></thead><tbody><tr><td><i><div class=\"dni-plaintext\">0</div></i></td><td><span>2020-01-01 00:00:00Z</span></td><td><div class=\"dni-plaintext\">10</div></td><td><div class=\"dni-plaintext\">13</div></td><td><div class=\"dni-plaintext\">17</div></td><td><div class=\"dni-plaintext\">&lt;null&gt;</div></td></tr><tr><td><i><div class=\"dni-plaintext\">1</div></i></td><td><span>2020-01-02 00:00:00Z</span></td><td><div class=\"dni-plaintext\">20</div></td><td><div class=\"dni-plaintext\">23</div></td><td><div class=\"dni-plaintext\">27</div></td><td><div class=\"dni-plaintext\">&lt;null&gt;</div></td></tr><tr><td><i><div class=\"dni-plaintext\">2</div></i></td><td><span>2020-01-03 00:00:00Z</span></td><td><div class=\"dni-plaintext\">15</div></td><td><div class=\"dni-plaintext\">18</div></td><td><div class=\"dni-plaintext\">22</div></td><td><div class=\"dni-plaintext\">10</div></td></tr><tr><td><i><div class=\"dni-plaintext\">3</div></i></td><td><span>2020-01-04 00:00:00Z</span></td><td><div class=\"dni-plaintext\">30</div></td><td><div class=\"dni-plaintext\">33</div></td><td><div class=\"dni-plaintext\">37</div></td><td><div class=\"dni-plaintext\">20</div></td></tr><tr><td><i><div class=\"dni-plaintext\">4</div></i></td><td><span>2020-01-05 00:00:00Z</span></td><td><div class=\"dni-plaintext\">45</div></td><td><div class=\"dni-plaintext\">48</div></td><td><div class=\"dni-plaintext\">52</div></td><td><div class=\"dni-plaintext\">15</div></td></tr></tbody></table>"
      ]
     },
     "metadata": {},
     "output_type": "display_data"
    }
   ],
   "source": [
    "df"
   ]
  },
  {
   "cell_type": "code",
   "execution_count": null,
   "metadata": {
    "dotnet_interactive": {
     "language": "csharp"
    }
   },
   "outputs": [
    {
     "data": {
      "text/html": [
       "<div class=\"dni-plaintext\">1.5</div>"
      ]
     },
     "metadata": {},
     "output_type": "display_data"
    }
   ],
   "source": [
    "((int?) 15) / ((double?) 10)"
   ]
  },
  {
   "cell_type": "code",
   "execution_count": null,
   "metadata": {
    "dotnet_interactive": {
     "language": "csharp"
    }
   },
   "outputs": [],
   "source": []
  }
 ],
 "metadata": {
  "kernelspec": {
   "display_name": ".NET (C#)",
   "language": "C#",
   "name": ".net-csharp"
  },
  "language_info": {
   "file_extension": ".cs",
   "mimetype": "text/x-csharp",
   "name": "C#",
   "pygments_lexer": "csharp",
   "version": "9.0"
  },
  "orig_nbformat": 4
 },
 "nbformat": 4,
 "nbformat_minor": 2
}
