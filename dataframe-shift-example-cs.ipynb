{
 "cells": [
  {
   "cell_type": "code",
   "execution_count": null,
   "metadata": {
    "dotnet_interactive": {
     "language": "csharp"
    }
   },
   "outputs": [
    {
     "data": {
      "text/html": [
       "<div><div></div><div></div><div><strong>Installed Packages</strong><ul><li><span>Microsoft.Data.Analysis, 0.19.0</span></li></ul></div></div>"
      ]
     },
     "metadata": {},
     "output_type": "display_data"
    },
    {
     "data": {
      "text/markdown": [
       "Loading extensions from `Microsoft.Data.Analysis.Interactive.dll`"
      ]
     },
     "metadata": {},
     "output_type": "display_data"
    }
   ],
   "source": [
    "#r \"nuget:Microsoft.Data.Analysis\"\n",
    "\n",
    "using Microsoft.Data.Analysis;"
   ]
  },
  {
   "cell_type": "code",
   "execution_count": null,
   "metadata": {
    "dotnet_interactive": {
     "language": "csharp"
    }
   },
   "outputs": [
    {
     "data": {
      "text/html": [
       "<table id=\"table_637729998246674910\"><thead><tr><th><i>index</i></th><th>DateTime</th><th>Col1</th><th>Col2</th><th>Col3</th></tr></thead><tbody><tr><td><i><div class=\"dni-plaintext\">0</div></i></td><td><span>2020-01-01 00:00:00Z</span></td><td><div class=\"dni-plaintext\">10</div></td><td><div class=\"dni-plaintext\">13</div></td><td><div class=\"dni-plaintext\">17</div></td></tr><tr><td><i><div class=\"dni-plaintext\">1</div></i></td><td><span>2020-01-02 00:00:00Z</span></td><td><div class=\"dni-plaintext\">20</div></td><td><div class=\"dni-plaintext\">23</div></td><td><div class=\"dni-plaintext\">27</div></td></tr><tr><td><i><div class=\"dni-plaintext\">2</div></i></td><td><span>2020-01-03 00:00:00Z</span></td><td><div class=\"dni-plaintext\">15</div></td><td><div class=\"dni-plaintext\">18</div></td><td><div class=\"dni-plaintext\">22</div></td></tr><tr><td><i><div class=\"dni-plaintext\">3</div></i></td><td><span>2020-01-04 00:00:00Z</span></td><td><div class=\"dni-plaintext\">30</div></td><td><div class=\"dni-plaintext\">33</div></td><td><div class=\"dni-plaintext\">37</div></td></tr><tr><td><i><div class=\"dni-plaintext\">4</div></i></td><td><span>2020-01-05 00:00:00Z</span></td><td><div class=\"dni-plaintext\">45</div></td><td><div class=\"dni-plaintext\">48</div></td><td><div class=\"dni-plaintext\">52</div></td></tr></tbody></table>"
      ]
     },
     "metadata": {},
     "output_type": "display_data"
    }
   ],
   "source": [
    "var df = new DataFrame(\n",
    "    new PrimitiveDataFrameColumn<DateTime>(\"DateTime\",\n",
    "        Enumerable.Range(0, 5).Select(i => \n",
    "            new DateTime(2020, 1, 1).Add(new TimeSpan(i, 0, 0, 0)))),    \n",
    "    new PrimitiveDataFrameColumn<int>(\"Col1\", new []{ 10, 20, 15, 30, 45 }),\n",
    "    new PrimitiveDataFrameColumn<int>(\"Col2\", new []{ 13, 23, 18, 33, 48 }),\n",
    "    new PrimitiveDataFrameColumn<int>(\"Col3\", new []{ 17, 27, 22, 37, 52 })\n",
    ");\n",
    "\n",
    "df"
   ]
  },
  {
   "cell_type": "code",
   "execution_count": null,
   "metadata": {
    "dotnet_interactive": {
     "language": "csharp"
    }
   },
   "outputs": [],
   "source": [
    "PrimitiveDataFrameColumn<double> ShiftIntColumn(PrimitiveDataFrameColumn<int> col, int n, string name)\n",
    "{\n",
    "    return \n",
    "        new PrimitiveDataFrameColumn<double>(\n",
    "            name,\n",
    "            Enumerable.Repeat((double?) null, n)\n",
    "                .Concat(col.Select(item => (double?) item))\n",
    "                .Take(col.Count()));\n",
    "}"
   ]
  },
  {
   "cell_type": "code",
   "execution_count": null,
   "metadata": {
    "dotnet_interactive": {
     "language": "csharp"
    }
   },
   "outputs": [],
   "source": [
    "df.Columns.Add(ShiftIntColumn((PrimitiveDataFrameColumn<int>)df[\"Col1\"], 2, \"Col4\"));"
   ]
  },
  {
   "cell_type": "code",
   "execution_count": null,
   "metadata": {
    "dotnet_interactive": {
     "language": "csharp"
    }
   },
   "outputs": [
    {
     "data": {
      "text/html": [
       "<table id=\"table_637729998377076018\"><thead><tr><th><i>index</i></th><th>DateTime</th><th>Col1</th><th>Col2</th><th>Col3</th><th>Col4</th></tr></thead><tbody><tr><td><i><div class=\"dni-plaintext\">0</div></i></td><td><span>2020-01-01 00:00:00Z</span></td><td><div class=\"dni-plaintext\">10</div></td><td><div class=\"dni-plaintext\">13</div></td><td><div class=\"dni-plaintext\">17</div></td><td><div class=\"dni-plaintext\">&lt;null&gt;</div></td></tr><tr><td><i><div class=\"dni-plaintext\">1</div></i></td><td><span>2020-01-02 00:00:00Z</span></td><td><div class=\"dni-plaintext\">20</div></td><td><div class=\"dni-plaintext\">23</div></td><td><div class=\"dni-plaintext\">27</div></td><td><div class=\"dni-plaintext\">&lt;null&gt;</div></td></tr><tr><td><i><div class=\"dni-plaintext\">2</div></i></td><td><span>2020-01-03 00:00:00Z</span></td><td><div class=\"dni-plaintext\">15</div></td><td><div class=\"dni-plaintext\">18</div></td><td><div class=\"dni-plaintext\">22</div></td><td><div class=\"dni-plaintext\">10</div></td></tr><tr><td><i><div class=\"dni-plaintext\">3</div></i></td><td><span>2020-01-04 00:00:00Z</span></td><td><div class=\"dni-plaintext\">30</div></td><td><div class=\"dni-plaintext\">33</div></td><td><div class=\"dni-plaintext\">37</div></td><td><div class=\"dni-plaintext\">20</div></td></tr><tr><td><i><div class=\"dni-plaintext\">4</div></i></td><td><span>2020-01-05 00:00:00Z</span></td><td><div class=\"dni-plaintext\">45</div></td><td><div class=\"dni-plaintext\">48</div></td><td><div class=\"dni-plaintext\">52</div></td><td><div class=\"dni-plaintext\">15</div></td></tr></tbody></table>"
      ]
     },
     "metadata": {},
     "output_type": "display_data"
    }
   ],
   "source": [
    "df"
   ]
  },
  {
   "cell_type": "code",
   "execution_count": null,
   "metadata": {
    "dotnet_interactive": {
     "language": "csharp"
    }
   },
   "outputs": [
    {
     "data": {
      "text/html": [
       "<table><thead><tr><th><i>index</i></th><th>value</th></tr></thead><tbody><tr><td>0</td><td><div class=\"dni-plaintext\">Infinity</div></td></tr><tr><td>1</td><td><div class=\"dni-plaintext\">Infinity</div></td></tr><tr><td>2</td><td><div class=\"dni-plaintext\">1.5</div></td></tr><tr><td>3</td><td><div class=\"dni-plaintext\">1.5</div></td></tr><tr><td>4</td><td><div class=\"dni-plaintext\">3</div></td></tr></tbody></table>"
      ]
     },
     "metadata": {},
     "output_type": "display_data"
    }
   ],
   "source": [
    "var result = df[\"Col1\"] / df[\"Col4\"];\n",
    "\n",
    "result.SetName(\"Col5\");\n",
    "\n",
    "result"
   ]
  },
  {
   "cell_type": "code",
   "execution_count": null,
   "metadata": {
    "dotnet_interactive": {
     "language": "csharp"
    }
   },
   "outputs": [],
   "source": [
    "// PrimitiveDataFrameColumn<double> DivAlt(PrimitiveDataFrameColumn<int> a, PrimitiveDataFrameColumn<double> b)\n",
    "// {\n",
    "//     return \n",
    "//         new PrimitiveDataFrameColumn<double>(\"\", a.Zip(b, (x, y) => y == null ? null : x / y));\n",
    "// }\n",
    "\n",
    "PrimitiveDataFrameColumn<double> DivAlt3(PrimitiveDataFrameColumn<int> a, PrimitiveDataFrameColumn<double> b, string name)\n",
    "{\n",
    "    return \n",
    "        new PrimitiveDataFrameColumn<double>(name, a.Zip(b, (x, y) => y == null ? null : x / y));\n",
    "}\n",
    "\n",
    "// DataFrameColumn DivAlt2(DataFrameColumn a, DataFrameColumn b, string name)\n",
    "// {\n",
    "//     var result = a / b;\n",
    "\n",
    "//     result.SetName(name);\n",
    "\n",
    "//     return result;\n",
    "// }"
   ]
  },
  {
   "cell_type": "code",
   "execution_count": null,
   "metadata": {
    "dotnet_interactive": {
     "language": "csharp"
    }
   },
   "outputs": [],
   "source": [
    "// df.Columns.Add(DivAlt3(df[\"Col1\"], df[\"Col4\"], \"Col5\"));\n",
    "\n",
    "df.Columns.Add(DivAlt3((PrimitiveDataFrameColumn<int>) df[\"Col1\"], (PrimitiveDataFrameColumn<double>) df[\"Col4\"], \"Col5\"));"
   ]
  },
  {
   "cell_type": "code",
   "execution_count": null,
   "metadata": {
    "dotnet_interactive": {
     "language": "csharp"
    }
   },
   "outputs": [
    {
     "data": {
      "text/html": [
       "<table id=\"table_637729999836880843\"><thead><tr><th><i>index</i></th><th>DateTime</th><th>Col1</th><th>Col2</th><th>Col3</th><th>Col4</th><th>Col5</th></tr></thead><tbody><tr><td><i><div class=\"dni-plaintext\">0</div></i></td><td><span>2020-01-01 00:00:00Z</span></td><td><div class=\"dni-plaintext\">10</div></td><td><div class=\"dni-plaintext\">13</div></td><td><div class=\"dni-plaintext\">17</div></td><td><div class=\"dni-plaintext\">&lt;null&gt;</div></td><td><div class=\"dni-plaintext\">&lt;null&gt;</div></td></tr><tr><td><i><div class=\"dni-plaintext\">1</div></i></td><td><span>2020-01-02 00:00:00Z</span></td><td><div class=\"dni-plaintext\">20</div></td><td><div class=\"dni-plaintext\">23</div></td><td><div class=\"dni-plaintext\">27</div></td><td><div class=\"dni-plaintext\">&lt;null&gt;</div></td><td><div class=\"dni-plaintext\">&lt;null&gt;</div></td></tr><tr><td><i><div class=\"dni-plaintext\">2</div></i></td><td><span>2020-01-03 00:00:00Z</span></td><td><div class=\"dni-plaintext\">15</div></td><td><div class=\"dni-plaintext\">18</div></td><td><div class=\"dni-plaintext\">22</div></td><td><div class=\"dni-plaintext\">10</div></td><td><div class=\"dni-plaintext\">1.5</div></td></tr><tr><td><i><div class=\"dni-plaintext\">3</div></i></td><td><span>2020-01-04 00:00:00Z</span></td><td><div class=\"dni-plaintext\">30</div></td><td><div class=\"dni-plaintext\">33</div></td><td><div class=\"dni-plaintext\">37</div></td><td><div class=\"dni-plaintext\">20</div></td><td><div class=\"dni-plaintext\">1.5</div></td></tr><tr><td><i><div class=\"dni-plaintext\">4</div></i></td><td><span>2020-01-05 00:00:00Z</span></td><td><div class=\"dni-plaintext\">45</div></td><td><div class=\"dni-plaintext\">48</div></td><td><div class=\"dni-plaintext\">52</div></td><td><div class=\"dni-plaintext\">15</div></td><td><div class=\"dni-plaintext\">3</div></td></tr></tbody></table>"
      ]
     },
     "metadata": {},
     "output_type": "display_data"
    }
   ],
   "source": [
    "df"
   ]
  }
 ],
 "metadata": {
  "kernelspec": {
   "display_name": ".NET (C#)",
   "language": "C#",
   "name": ".net-csharp"
  },
  "language_info": {
   "file_extension": ".cs",
   "mimetype": "text/x-csharp",
   "name": "C#",
   "pygments_lexer": "csharp",
   "version": "9.0"
  },
  "orig_nbformat": 4
 },
 "nbformat": 4,
 "nbformat_minor": 2
}
